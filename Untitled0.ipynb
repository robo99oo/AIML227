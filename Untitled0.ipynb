{
  "nbformat": 4,
  "nbformat_minor": 0,
  "metadata": {
    "colab": {
      "name": "Untitled0.ipynb",
      "provenance": [],
      "collapsed_sections": [],
      "mount_file_id": "1aYFoX9J5Jjkd3lfzCKanBXSxkNm-3gKu",
      "authorship_tag": "ABX9TyM5sZ7dJDN4oLBKfX3+f/rz",
      "include_colab_link": true
    },
    "kernelspec": {
      "name": "python3",
      "display_name": "Python 3"
    },
    "language_info": {
      "name": "python"
    }
  },
  "cells": [
    {
      "cell_type": "markdown",
      "metadata": {
        "id": "view-in-github",
        "colab_type": "text"
      },
      "source": [
        "<a href=\"https://colab.research.google.com/github/robo99oo/AIML227/blob/main/Untitled0.ipynb\" target=\"_parent\"><img src=\"https://colab.research.google.com/assets/colab-badge.svg\" alt=\"Open In Colab\"/></a>"
      ]
    },
    {
      "cell_type": "code",
      "execution_count": null,
      "metadata": {
        "colab": {
          "base_uri": "https://localhost:8080/"
        },
        "id": "0-w6bFz-xiaF",
        "outputId": "3286f209-cf43-4faf-bf93-aa7532513102"
      },
      "outputs": [
        {
          "output_type": "stream",
          "name": "stdout",
          "text": [
            "hello\n",
            "30\n"
          ]
        }
      ],
      "source": [
        "a=10;\n",
        "b=20;\n",
        "c=a+b;\n",
        "print(\"hello\")\n",
        "print(c)"
      ]
    },
    {
      "cell_type": "code",
      "source": [
        ""
      ],
      "metadata": {
        "id": "_g_AGMxW7Fj-"
      },
      "execution_count": null,
      "outputs": []
    }
  ]
}